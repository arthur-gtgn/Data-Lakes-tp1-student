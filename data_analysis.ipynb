{
  "cells": [
    {
      "cell_type": "markdown",
      "metadata": {
        "id": "Etx0pxP2HejP"
      },
      "source": [
        "# PFAM PROTEIN CLASSIFIER - Yvann Vincent"
      ]
    },
    {
      "cell_type": "markdown",
      "metadata": {
        "id": "eGKF7J7nHkMD"
      },
      "source": [
        "This notebook explores data in the PFAM Dataset, where each entry corresponds to a protein accompanied with additional information such as it's amino-acid sequence.\n",
        "\n",
        "The final goals of this notebook are:\n",
        "* To gather descriptive statistics on amino-acid sequences in the dataset\n",
        "* Visualize key elements of the data\n",
        "* Infer a good way to approach the problem"
      ]
    },
    {
      "cell_type": "markdown",
      "metadata": {
        "id": "yn8P0gZVOSih"
      },
      "source": [
        "# IMPORTS"
      ]
    },
    {
      "cell_type": "code",
      "execution_count": 1,
      "metadata": {
        "id": "-N2c086o54-f"
      },
      "outputs": [],
      "source": [
        "import os\n",
        "import gc\n",
        "\n",
        "import numpy as np\n",
        "import pandas as pd\n",
        "import torch, torch.nn as nn\n",
        "import matplotlib.pyplot as plt\n",
        "import seaborn as sns\n",
        "from sklearn.decomposition import PCA\n",
        "from sklearn.manifold import TSNE\n",
        "from torch.utils.data.dataloader import DataLoader"
      ]
    },
    {
      "cell_type": "code",
      "execution_count": 2,
      "metadata": {
        "id": "qIOthravXidX"
      },
      "outputs": [],
      "source": [
        "data = pd.read_csv('data/bronze/combined_data.csv')"
      ]
    },
    {
      "cell_type": "markdown",
      "metadata": {
        "id": "0ssCqDsVb93e"
      },
      "source": [
        "Let's verify that the data has been correctly loaded:"
      ]
    },
    {
      "cell_type": "code",
      "execution_count": 3,
      "metadata": {
        "colab": {
          "base_uri": "https://localhost:8080/",
          "height": 206
        },
        "id": "yUIXH7skcAWo",
        "outputId": "d8ce411f-8409-4623-e8be-ec148e7d68a5"
      },
      "outputs": [
        {
          "data": {
            "text/html": [
              "<div>\n",
              "<style scoped>\n",
              "    .dataframe tbody tr th:only-of-type {\n",
              "        vertical-align: middle;\n",
              "    }\n",
              "\n",
              "    .dataframe tbody tr th {\n",
              "        vertical-align: top;\n",
              "    }\n",
              "\n",
              "    .dataframe thead th {\n",
              "        text-align: right;\n",
              "    }\n",
              "</style>\n",
              "<table border=\"1\" class=\"dataframe\">\n",
              "  <thead>\n",
              "    <tr style=\"text-align: right;\">\n",
              "      <th></th>\n",
              "      <th>family_id</th>\n",
              "      <th>sequence_name</th>\n",
              "      <th>family_accession</th>\n",
              "      <th>aligned_sequence</th>\n",
              "      <th>sequence</th>\n",
              "    </tr>\n",
              "  </thead>\n",
              "  <tbody>\n",
              "    <tr>\n",
              "      <th>0</th>\n",
              "      <td>zf-Tim10_DDP</td>\n",
              "      <td>N1QB11_PSEFD/15-76</td>\n",
              "      <td>PF02953.15</td>\n",
              "      <td>..RMEKKQMKDFMNMYSNLVQRCFNDCV...........TD.F......</td>\n",
              "      <td>RMEKKQMKDFMNMYSNLVQRCFNDCVTDFTSKSLQSKEEGCVMRCV...</td>\n",
              "    </tr>\n",
              "    <tr>\n",
              "      <th>1</th>\n",
              "      <td>DNA_primase_S</td>\n",
              "      <td>A8XA78_CAEBR/105-345</td>\n",
              "      <td>PF01896.19</td>\n",
              "      <td>FDID..LTDYDNIRNCCKEATVCPKCWKFMVLAVKILDFLLDDMFG...</td>\n",
              "      <td>FDIDLTDYDNIRNCCKEATVCPKCWKFMVLAVKILDFLLDDMFGFN...</td>\n",
              "    </tr>\n",
              "    <tr>\n",
              "      <th>2</th>\n",
              "      <td>Col_cuticle_N</td>\n",
              "      <td>A8XBM5_CAEBR/9-56</td>\n",
              "      <td>PF01484.17</td>\n",
              "      <td>ASAAILSGATIVGCLFFAAQIFNEVNSLYDDVMVDMDAFKVKSNIA...</td>\n",
              "      <td>ASAAILSGATIVGCLFFAAQIFNEVNSLYDDVMVDMDAFKVKSNIAWD</td>\n",
              "    </tr>\n",
              "    <tr>\n",
              "      <th>3</th>\n",
              "      <td>GST_C_3</td>\n",
              "      <td>W4XBU3_STRPU/120-207</td>\n",
              "      <td>PF14497.6</td>\n",
              "      <td>KD.................................KLKESLPKTVN...</td>\n",
              "      <td>KDKLKESLPKTVNPILLKFLEKALEDNPNGNGYFVGQDATMVEFVY...</td>\n",
              "    </tr>\n",
              "    <tr>\n",
              "      <th>4</th>\n",
              "      <td>Ada_Zn_binding</td>\n",
              "      <td>E8U5K2_DEIML/9-73</td>\n",
              "      <td>PF02805.16</td>\n",
              "      <td>DRWQAVVQRE...AAQ.DG...LFLYAVRTTGIYCRPSCPSRRPR....</td>\n",
              "      <td>DRWQAVVQREAAQDGLFLYAVRTTGIYCRPSCPSRRPRRENVTFFE...</td>\n",
              "    </tr>\n",
              "  </tbody>\n",
              "</table>\n",
              "</div>"
            ],
            "text/plain": [
              "        family_id         sequence_name family_accession  \\\n",
              "0    zf-Tim10_DDP    N1QB11_PSEFD/15-76       PF02953.15   \n",
              "1   DNA_primase_S  A8XA78_CAEBR/105-345       PF01896.19   \n",
              "2   Col_cuticle_N     A8XBM5_CAEBR/9-56       PF01484.17   \n",
              "3         GST_C_3  W4XBU3_STRPU/120-207        PF14497.6   \n",
              "4  Ada_Zn_binding     E8U5K2_DEIML/9-73       PF02805.16   \n",
              "\n",
              "                                    aligned_sequence  \\\n",
              "0  ..RMEKKQMKDFMNMYSNLVQRCFNDCV...........TD.F......   \n",
              "1  FDID..LTDYDNIRNCCKEATVCPKCWKFMVLAVKILDFLLDDMFG...   \n",
              "2  ASAAILSGATIVGCLFFAAQIFNEVNSLYDDVMVDMDAFKVKSNIA...   \n",
              "3  KD.................................KLKESLPKTVN...   \n",
              "4  DRWQAVVQRE...AAQ.DG...LFLYAVRTTGIYCRPSCPSRRPR....   \n",
              "\n",
              "                                            sequence  \n",
              "0  RMEKKQMKDFMNMYSNLVQRCFNDCVTDFTSKSLQSKEEGCVMRCV...  \n",
              "1  FDIDLTDYDNIRNCCKEATVCPKCWKFMVLAVKILDFLLDDMFGFN...  \n",
              "2   ASAAILSGATIVGCLFFAAQIFNEVNSLYDDVMVDMDAFKVKSNIAWD  \n",
              "3  KDKLKESLPKTVNPILLKFLEKALEDNPNGNGYFVGQDATMVEFVY...  \n",
              "4  DRWQAVVQREAAQDGLFLYAVRTTGIYCRPSCPSRRPRRENVTFFE...  "
            ]
          },
          "execution_count": 3,
          "metadata": {},
          "output_type": "execute_result"
        }
      ],
      "source": [
        "data.head()"
      ]
    },
    {
      "cell_type": "markdown",
      "metadata": {
        "id": "Sp7LKbu3Y74k"
      },
      "source": [
        "Now that the data is loaded, we shall try to explore it to see **whether it is suitable for learning**. If not, **why it isn't, and how to transform it** to make it suitable for learning.\n",
        "\n",
        "Some questions that first come to mind are the following:\n",
        "\n",
        "1.   Are classes well balanced? If not, how imbalanced are they? Are there imbalances from one data to another?\n",
        "2.   How to efficiently compensate for these imbalances?\n",
        "3.   How long are protein sequences on average ? In a real life scenarion, this would be a very important question to manage your GPU VRAM during training\n",
        "\n",
        "\n",
        "\n",
        "\n",
        "\n",
        "\n",
        "\n"
      ]
    },
    {
      "cell_type": "markdown",
      "metadata": {
        "id": "l-AZe2g5ceyn"
      },
      "source": [
        "# Class balance"
      ]
    },
    {
      "cell_type": "markdown",
      "metadata": {
        "id": "6Chs4XFpdm-g"
      },
      "source": [
        "As is, the data is the raw and transformations need to be applied to check for potential class imbalance. The PFAM dataset reportedly has entries from 17,930 output classes, therefore it seems likely that some will be over-represented and some under-represented.\n",
        "\n",
        "This needs to be evaluated to develop a proper training protocol later on."
      ]
    },
    {
      "cell_type": "code",
      "execution_count": 8,
      "metadata": {
        "id": "O8CgOToWY4BS"
      },
      "outputs": [],
      "source": [
        "def munge_data(data: pd.DataFrame):\n",
        "  '''\n",
        "  Munges data to extract key insights\n",
        "\n",
        "  Paramaters:\n",
        "  data (pd.DataFrame): Raw DataFrame after unpacking\n",
        "\n",
        "  Returns:\n",
        "  (pd.DataFrame): Munged data \n",
        "  '''\n",
        "  munged_data = {\n",
        "      'sample_count': data.shape[0],\n",
        "      'class_count': data['family_accession'].nunique(),\n",
        "      'min_samples_per_class': data.groupby('family_accession').size().min(),\n",
        "      'max_samples_per_class': data.groupby('family_accession').size().max(),\n",
        "      'mean_samples_per_class': data.groupby('family_accession').size().mean(),\n",
        "      'min_seq_length': data['sequence'].apply(len).min(),\n",
        "      'max_seq_length': data['sequence'].apply(len).max(),\n",
        "      'mean_seq_length': data['sequence'].apply(len).median()\n",
        "  }\n",
        "\n",
        "  return pd.DataFrame([munged_data])"
      ]
    },
    {
      "cell_type": "code",
      "execution_count": 9,
      "metadata": {
        "colab": {
          "base_uri": "https://localhost:8080/",
          "height": 143
        },
        "id": "hdG2gSY4kuO_",
        "outputId": "1e5d24aa-d3c2-4478-9f40-6af439fd9d59"
      },
      "outputs": [
        {
          "data": {
            "text/html": [
              "<div>\n",
              "<style scoped>\n",
              "    .dataframe tbody tr th:only-of-type {\n",
              "        vertical-align: middle;\n",
              "    }\n",
              "\n",
              "    .dataframe tbody tr th {\n",
              "        vertical-align: top;\n",
              "    }\n",
              "\n",
              "    .dataframe thead th {\n",
              "        text-align: right;\n",
              "    }\n",
              "</style>\n",
              "<table border=\"1\" class=\"dataframe\">\n",
              "  <thead>\n",
              "    <tr style=\"text-align: right;\">\n",
              "      <th></th>\n",
              "      <th>sample_count</th>\n",
              "      <th>class_count</th>\n",
              "      <th>min_samples_per_class</th>\n",
              "      <th>max_samples_per_class</th>\n",
              "      <th>mean_samples_per_class</th>\n",
              "      <th>min_seq_length</th>\n",
              "      <th>max_seq_length</th>\n",
              "      <th>mean_seq_length</th>\n",
              "    </tr>\n",
              "  </thead>\n",
              "  <tbody>\n",
              "    <tr>\n",
              "      <th>0</th>\n",
              "      <td>2678365</td>\n",
              "      <td>17930</td>\n",
              "      <td>2</td>\n",
              "      <td>9090</td>\n",
              "      <td>149.378974</td>\n",
              "      <td>4</td>\n",
              "      <td>2037</td>\n",
              "      <td>119.0</td>\n",
              "    </tr>\n",
              "  </tbody>\n",
              "</table>\n",
              "</div>"
            ],
            "text/plain": [
              "   sample_count  class_count  min_samples_per_class  max_samples_per_class  \\\n",
              "0       2678365        17930                      2                   9090   \n",
              "\n",
              "   mean_samples_per_class  min_seq_length  max_seq_length  mean_seq_length  \n",
              "0              149.378974               4            2037            119.0  "
            ]
          },
          "execution_count": 9,
          "metadata": {},
          "output_type": "execute_result"
        }
      ],
      "source": [
        "data_munged = munge_data(data)\n",
        "data_munged"
      ]
    },
    {
      "cell_type": "markdown",
      "metadata": {
        "id": "YtNLe1eIlUu9"
      },
      "source": [
        "The above analysis confirms the following insights:\n",
        "\n",
        "* **Output classes seem to be extremely imbalanced** when looking at min, max and mean number of samples per class\n",
        "* **Sequence lengths look strongly unbalanced too**. However, with the median sequence length being 119, this tends to indicate that all context in most of the sequences can be captured with a model input_size of at least 119. In training, the goal will be to maximize this value to capture as much context as possible while staying in the range of available compute ressources.\n",
        "\n"
      ]
    },
    {
      "cell_type": "markdown",
      "metadata": {
        "id": "e0Isclrw5O5U"
      },
      "source": [
        "Another point we want to verify is that amino-acid sequences are similarly distributed in terms of average length per class and samples per class between partitions.\n",
        "\n",
        "Using seaborn, let's visualize these distributions to gain visual insight into the data:"
      ]
    },
    {
      "cell_type": "markdown",
      "metadata": {},
      "source": [
        "# Class Distribution Plot"
      ]
    },
    {
      "cell_type": "code",
      "execution_count": 35,
      "metadata": {},
      "outputs": [
        {
          "data": {
            "text/plain": [
              "Text(0.5, 0.98, 'PFAM Class Distribution')"
            ]
          },
          "execution_count": 35,
          "metadata": {},
          "output_type": "execute_result"
        },
        {
          "data": {
            "image/png": "[encoded data removed]",
            "text/plain": [
              "<Figure size 1440x720 with 1 Axes>"
            ]
          },
          "metadata": {},
          "output_type": "display_data"
        }
      ],
      "source": [
        "# Visualize protein count per family size to visualize class imbalance\n",
        "\n",
        "fig, ax = plt.subplots(figsize=(20,10))\n",
        "colors = ['blue']\n",
        "sns.set_theme(style=\"whitegrid\")\n",
        "\n",
        "family_size = data['family_id'].value_counts()\n",
        "class_distribution = family_size.value_counts().sort_index()\n",
        "\n",
        "sns.histplot(data=class_distribution, bins=100, ax=ax, color=colors, kde=False, alpha=0.15)\n",
        "plt.yscale('log')\n",
        "\n",
        "fig.suptitle('PFAM Class Distribution')"
      ]
    },
    {
      "cell_type": "code",
      "execution_count": 36,
      "metadata": {},
      "outputs": [
        {
          "data": {
            "text/plain": [
              "2       507\n",
              "4       938\n",
              "6       692\n",
              "8       533\n",
              "10      472\n",
              "       ... \n",
              "3816      1\n",
              "3842      1\n",
              "4398      1\n",
              "4814      1\n",
              "9090      1\n",
              "Name: family_id, Length: 781, dtype: int64"
            ]
          },
          "execution_count": 36,
          "metadata": {},
          "output_type": "execute_result"
        }
      ],
      "source": [
        "class_distribution"
      ]
    },
    {
      "cell_type": "code",
      "execution_count": 43,
      "metadata": {
        "colab": {
          "base_uri": "https://localhost:8080/",
          "height": 975
        },
        "id": "1JN_vX3y75_z",
        "outputId": "2b654ce3-bc80-448c-9782-5f9e20e3d06f"
      },
      "outputs": [
        {
          "data": {
            "text/plain": [
              "Text(0.5, 1.0, 'Distribution of amino acids per sequence')"
            ]
          },
          "execution_count": 43,
          "metadata": {},
          "output_type": "execute_result"
        },
        {
          "data": {
            "image/png": "[encoded data removed]",
            "text/plain": [
              "<Figure size 1440x720 with 1 Axes>"
            ]
          },
          "metadata": {},
          "output_type": "display_data"
        }
      ],
      "source": [
        "# Visualize the distribution of sequence lenghts\n",
        "fig, ax = plt.subplots(figsize=(20,10))\n",
        "colors = ['green']\n",
        "\n",
        "seq_lenghts = data['sequence'].apply(len).value_counts()\n",
        "\n",
        "ax.set_xlabel('Sequence length')\n",
        "ax.set_ylabel('Amino Acid count')\n",
        "\n",
        "sns.histplot(data=seq_lenghts, bins=50, ax=ax, color=colors, kde=True, alpha=0.15)\n",
        "\n",
        "ax.set_title('Distribution of amino acids per sequence')"
      ]
    },
    {
      "cell_type": "markdown",
      "metadata": {
        "id": "lIyWvk8AFZUm"
      },
      "source": [
        "Some amino acid sequences are extremely long. However, those are a minority, as both the graph and earlier statistics show that AA sequence length tends to gravitate towards the lower end of the spectrum."
      ]
    },
    {
      "cell_type": "markdown",
      "metadata": {
        "id": "aNz1QFGI30rg"
      },
      "source": [
        "# Compensate the imbalance\n",
        "\n"
      ]
    },
    {
      "cell_type": "markdown",
      "metadata": {
        "id": "-LiQhBdDJH_D"
      },
      "source": [
        "Firstly, here are a list of methods you will now be using to compensate the imbalance and why :\n",
        "\n",
        "* **Class weights** : Class weights could be used in the training loss to balance out gradients. The idea behind class weights is for each class to be givevn a weight inversely proportional to the size it takes in the dataset. This ensures entries from all classes can be equally represented when training a Machine Learning model on imbalanced data.\n",
        "* **Custom Stratified Split** : As we have seen, a large amount of classes only have 2 representatives for 3 sets. To split the data into a train, val and test set, you will need to think of a custom way to stratify the split accross these three sets. *Imagine you are a Data Engineer in a real life scenario, and the priority is to have data to evaluate the performance of the model the Machine Learning Engineers you work with will train*.\n",
        "* \n",
        "\n"
      ]
    }
  ],
  "metadata": {
    "accelerator": "GPU",
    "colab": {
      "gpuType": "T4",
      "provenance": []
    },
    "gpuClass": "standard",
    "kernelspec": {
      "display_name": ".data-lakes",
      "language": "python",
      "name": "python3"
    },
    "language_info": {
      "codemirror_mode": {
        "name": "ipython",
        "version": 3
      },
      "file_extension": ".py",
      "mimetype": "text/x-python",
      "name": "python",
      "nbconvert_exporter": "python",
      "pygments_lexer": "ipython3",
      "version": "3.9.18"
    }
  },
  "nbformat": 4,
  "nbformat_minor": 0
}
